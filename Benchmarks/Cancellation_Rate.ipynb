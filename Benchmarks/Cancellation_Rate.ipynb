{
 "cells": [
  {
   "metadata": {},
   "cell_type": "markdown",
   "source": [
    "\n",
    "On-Time"
   ],
   "id": "c79d246aa0ac9b01"
  },
  {
   "metadata": {},
   "cell_type": "code",
   "source": [
    "# SQL:\n",
    "# select\n",
    "#   tasks.merchant_id,\n",
    "#   tasks.env,\n",
    "#   tasks.id as task_id,\n",
    "#   wp.original_eta,\n",
    "#   wp.checkin_time,\n",
    "#   date_diff('minute',original_eta,checkin_time) as on_time\n",
    "# from tasks\n",
    "# join way_points as wp on tasks.id = wp.task_id and wp.date >= 20250101 and wp.checkin_time between date '2025-03-01' and date '2025-04-30' and wp.env = tasks.env\n",
    "# join merchants on merchants.id = tasks.merchant_id and merchants.env = tasks.env and merchants.subscription_type = 17\n",
    "# where tasks.date >= 20250101\n",
    "#   and tasks.status = 4\n",
    "#   and tasks.task_type_id <>3\n",
    "#   and tasks.ended_time between date '2025-04-01' and date '2025-04-30'\n",
    "#   and tasks.merchant_id <> 6\n",
    "#   and tasks.is_billable = 1\n",
    "#   and (\n",
    "#       (tasks.task_type_id = 2 and wp.pickup_dropoff_option = 0) OR\n",
    "#       (tasks.task_type_id in (4,5) and wp.pickup_dropoff_option in (1,2)) OR\n",
    "#       (merchants.partner_id = 875 and wp.position = 1)\n",
    "#       )\n",
    "#   and original_eta is not null"
   ],
   "id": "124aee6fb048500a",
   "outputs": [],
   "execution_count": null
  },
  {
   "metadata": {
    "ExecuteTime": {
     "end_time": "2025-05-20T10:29:15.193665Z",
     "start_time": "2025-05-20T10:29:06.166397Z"
    }
   },
   "cell_type": "code",
   "source": [
    "import pandas as pd\n",
    "import numpy as np\n",
    "import matplotlib.pyplot as plt\n",
    "# import seaborn as sns"
   ],
   "id": "4f982af69ad043a4",
   "outputs": [
    {
     "name": "stderr",
     "output_type": "stream",
     "text": [
      "Matplotlib is building the font cache; this may take a moment.\n"
     ]
    }
   ],
   "execution_count": 11
  },
  {
   "metadata": {},
   "cell_type": "code",
   "outputs": [],
   "execution_count": null,
   "source": [
    "# |df1 = pd.read_csv('/Users/along/Documents/Analysis/Benchmarks/cancelus2.csv')\n",
    "# df2 = pd.read_csv('/Users/along/Documents/Analysis/Benchmarks/cancelus3.csv')\n",
    "# df3 = pd.read_csv('/Users/along/Documents/Analysis/Benchmarks/canceleu2.csv')\n",
    "# df4 = pd.read_csv('/Users/along/Documents/Analysis/Benchmarks/canceleu3.csv')"
   ],
   "id": "d484ea4388636dbe"
  },
  {
   "metadata": {},
   "cell_type": "code",
   "outputs": [],
   "execution_count": null,
   "source": [
    "df1 = pd.read_csv('/Users/along/Documents/Analysis/Benchmarks/ontimev1.csv',index_col= 'task_id').sample(frac=0.1)\n",
    "df2 = pd.read_csv('/Users/along/Documents/Analysis/Benchmarks/ontimev2.csv',index_col= 'task_id').sample(frac=0.1)\n",
    "accounts = pd.read_csv('/content/drive/MyDrive/Analysis/Data/Benchmark/accounts.csv')"
   ],
   "id": "dc1d3c6b8698bf0e"
  }
 ],
 "metadata": {
  "kernelspec": {
   "name": "python3",
   "language": "python",
   "display_name": "Python 3 (ipykernel)"
  }
 },
 "nbformat": 5,
 "nbformat_minor": 9
}
